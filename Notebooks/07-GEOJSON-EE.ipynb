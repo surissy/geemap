{
 "cells": [
  {
   "cell_type": "code",
   "execution_count": 1,
   "id": "b21b0b8b-3630-4418-a335-713c91e3f936",
   "metadata": {},
   "outputs": [],
   "source": [
    "import geemap\n",
    "import json\n",
    "import os\n",
    "import requests\n",
    "from geemap import geojson_to_ee, ee_to_geojson\n",
    "from ipyleaflet import GeoJSON"
   ]
  },
  {
   "cell_type": "code",
   "execution_count": 9,
   "id": "46fe434c-d4ba-4d8c-b8e4-2ea49ba97482",
   "metadata": {},
   "outputs": [
    {
     "data": {
      "text/html": [
       "\n",
       "            <style>\n",
       "                .geemap-dark {\n",
       "                    --jp-widgets-color: white;\n",
       "                    --jp-widgets-label-color: white;\n",
       "                    --jp-ui-font-color1: white;\n",
       "                    --jp-layout-color2: #454545;\n",
       "                    background-color: #383838;\n",
       "                }\n",
       "\n",
       "                .geemap-dark .jupyter-button {\n",
       "                    --jp-layout-color3: #383838;\n",
       "                }\n",
       "\n",
       "                .geemap-colab {\n",
       "                    background-color: var(--colab-primary-surface-color, white);\n",
       "                }\n",
       "\n",
       "                .geemap-colab .jupyter-button {\n",
       "                    --jp-layout-color3: var(--colab-primary-surface-color, white);\n",
       "                }\n",
       "            </style>\n",
       "            "
      ],
      "text/plain": [
       "<IPython.core.display.HTML object>"
      ]
     },
     "metadata": {},
     "output_type": "display_data"
    },
    {
     "data": {
      "application/vnd.jupyter.widget-view+json": {
       "model_id": "e2200be8762e4494962aeafa435db26d",
       "version_major": 2,
       "version_minor": 0
      },
      "text/plain": [
       "Map(center=[0, 0], controls=(WidgetControl(options=['position', 'transparent_bg'], widget=SearchDataGUI(childr…"
      ]
     },
     "execution_count": 9,
     "metadata": {},
     "output_type": "execute_result"
    }
   ],
   "source": [
    "Map = geemap.Map()\n",
    "Map"
   ]
  },
  {
   "cell_type": "code",
   "execution_count": 10,
   "id": "73d03198-ba97-4f54-8cc7-175c7ba122ec",
   "metadata": {},
   "outputs": [
    {
     "data": {
      "text/html": [
       "\n",
       "            <style>\n",
       "                .geemap-dark {\n",
       "                    --jp-widgets-color: white;\n",
       "                    --jp-widgets-label-color: white;\n",
       "                    --jp-ui-font-color1: white;\n",
       "                    --jp-layout-color2: #454545;\n",
       "                    background-color: #383838;\n",
       "                }\n",
       "\n",
       "                .geemap-dark .jupyter-button {\n",
       "                    --jp-layout-color3: #383838;\n",
       "                }\n",
       "\n",
       "                .geemap-colab {\n",
       "                    background-color: var(--colab-primary-surface-color, white);\n",
       "                }\n",
       "\n",
       "                .geemap-colab .jupyter-button {\n",
       "                    --jp-layout-color3: var(--colab-primary-surface-color, white);\n",
       "                }\n",
       "            </style>\n",
       "            "
      ],
      "text/plain": [
       "<IPython.core.display.HTML object>"
      ]
     },
     "metadata": {},
     "output_type": "display_data"
    }
   ],
   "source": [
    "file_path = \"Z:/GEE/geemap-master/examples/data/us_states.json\"\n",
    "\n",
    "# if the file is not found on the computer, go to the github page to download:\n",
    "if not os.path.exists(file_path):\n",
    "    url = \"https://github.com/gee-community/geemap/raw/master/examples/data/us_states.json\"\n",
    "    r = requests.get(url)\n",
    "    with open(file_path, \"w\") as f:\n",
    "        f.write(r.content.decode(\"utf-8\"))\n",
    "\n",
    "with open(file_path) as f:\n",
    "    json_data = json.load(f)"
   ]
  },
  {
   "cell_type": "code",
   "execution_count": 11,
   "id": "b685dc80-9532-4bed-809e-abcb799defc6",
   "metadata": {},
   "outputs": [
    {
     "data": {
      "text/html": [
       "\n",
       "            <style>\n",
       "                .geemap-dark {\n",
       "                    --jp-widgets-color: white;\n",
       "                    --jp-widgets-label-color: white;\n",
       "                    --jp-ui-font-color1: white;\n",
       "                    --jp-layout-color2: #454545;\n",
       "                    background-color: #383838;\n",
       "                }\n",
       "\n",
       "                .geemap-dark .jupyter-button {\n",
       "                    --jp-layout-color3: #383838;\n",
       "                }\n",
       "\n",
       "                .geemap-colab {\n",
       "                    background-color: var(--colab-primary-surface-color, white);\n",
       "                }\n",
       "\n",
       "                .geemap-colab .jupyter-button {\n",
       "                    --jp-layout-color3: var(--colab-primary-surface-color, white);\n",
       "                }\n",
       "            </style>\n",
       "            "
      ],
      "text/plain": [
       "<IPython.core.display.HTML object>"
      ]
     },
     "metadata": {},
     "output_type": "display_data"
    }
   ],
   "source": [
    "# convert the json data to a geojson layer\n",
    "json_layer = GeoJSON(\n",
    "    data=json_data,\n",
    "    name=\"US States JSON\",\n",
    "    hover_style={\"fillColor\": \"red\", \"fillOpacity\": 0.5},\n",
    ")\n",
    "Map.add_layer(json_layer)\n",
    "\n",
    "# fillcolor: filled color when the cursor points to a feature\n",
    "## these are geojson objects; it is on the local computer and has not sent to the clouds yet"
   ]
  },
  {
   "cell_type": "code",
   "execution_count": 12,
   "id": "fd3552b9-309f-41e7-9876-c6bc88ed84c5",
   "metadata": {},
   "outputs": [
    {
     "data": {
      "text/html": [
       "\n",
       "            <style>\n",
       "                .geemap-dark {\n",
       "                    --jp-widgets-color: white;\n",
       "                    --jp-widgets-label-color: white;\n",
       "                    --jp-ui-font-color1: white;\n",
       "                    --jp-layout-color2: #454545;\n",
       "                    background-color: #383838;\n",
       "                }\n",
       "\n",
       "                .geemap-dark .jupyter-button {\n",
       "                    --jp-layout-color3: #383838;\n",
       "                }\n",
       "\n",
       "                .geemap-colab {\n",
       "                    background-color: var(--colab-primary-surface-color, white);\n",
       "                }\n",
       "\n",
       "                .geemap-colab .jupyter-button {\n",
       "                    --jp-layout-color3: var(--colab-primary-surface-color, white);\n",
       "                }\n",
       "            </style>\n",
       "            "
      ],
      "text/plain": [
       "<IPython.core.display.HTML object>"
      ]
     },
     "metadata": {},
     "output_type": "display_data"
    }
   ],
   "source": [
    "# convert them to ee objects:\n",
    "ee_data = geojson_to_ee(json_data)\n",
    "Map.addLayer(ee_data, {}, \"US States EE\")"
   ]
  },
  {
   "cell_type": "code",
   "execution_count": 13,
   "id": "e44d9c95-6bf2-47d1-906e-6858f326556c",
   "metadata": {},
   "outputs": [
    {
     "data": {
      "text/html": [
       "\n",
       "            <style>\n",
       "                .geemap-dark {\n",
       "                    --jp-widgets-color: white;\n",
       "                    --jp-widgets-label-color: white;\n",
       "                    --jp-ui-font-color1: white;\n",
       "                    --jp-layout-color2: #454545;\n",
       "                    background-color: #383838;\n",
       "                }\n",
       "\n",
       "                .geemap-dark .jupyter-button {\n",
       "                    --jp-layout-color3: #383838;\n",
       "                }\n",
       "\n",
       "                .geemap-colab {\n",
       "                    background-color: var(--colab-primary-surface-color, white);\n",
       "                }\n",
       "\n",
       "                .geemap-colab .jupyter-button {\n",
       "                    --jp-layout-color3: var(--colab-primary-surface-color, white);\n",
       "                }\n",
       "            </style>\n",
       "            "
      ],
      "text/plain": [
       "<IPython.core.display.HTML object>"
      ]
     },
     "metadata": {},
     "output_type": "display_data"
    }
   ],
   "source": [
    "# convert from ee objects back to geojson:\n",
    "json_data_2 = ee_to_geojson(ee_data)\n",
    "json_layer_2 = GeoJSON(\n",
    "    data=json_data_2,\n",
    "    name=\"US States EE JSON\",\n",
    "    hover_style={\"fillColor\": \"red\", \"fillOpacity\": 0.5},\n",
    ")\n",
    "Map.add_layer(json_layer_2)\n",
    "\n",
    "# once converted ee objects to geojson objects, there will be more interactive components"
   ]
  },
  {
   "cell_type": "code",
   "execution_count": 14,
   "id": "303a0ce6-25d5-4d37-930e-c4ff973eb47c",
   "metadata": {},
   "outputs": [
    {
     "data": {
      "text/html": [
       "\n",
       "            <style>\n",
       "                .geemap-dark {\n",
       "                    --jp-widgets-color: white;\n",
       "                    --jp-widgets-label-color: white;\n",
       "                    --jp-ui-font-color1: white;\n",
       "                    --jp-layout-color2: #454545;\n",
       "                    background-color: #383838;\n",
       "                }\n",
       "\n",
       "                .geemap-dark .jupyter-button {\n",
       "                    --jp-layout-color3: #383838;\n",
       "                }\n",
       "\n",
       "                .geemap-colab {\n",
       "                    background-color: var(--colab-primary-surface-color, white);\n",
       "                }\n",
       "\n",
       "                .geemap-colab .jupyter-button {\n",
       "                    --jp-layout-color3: var(--colab-primary-surface-color, white);\n",
       "                }\n",
       "            </style>\n",
       "            "
      ],
      "text/plain": [
       "<IPython.core.display.HTML object>"
      ]
     },
     "metadata": {},
     "output_type": "display_data"
    }
   ],
   "source": [
    "file_path = \"Z:/GEE/geemap-master/examples/data/countries.geojson\"\n",
    "\n",
    "if not os.path.exists(file_path):\n",
    "    url = \"https://github.com/gee-community/geemap/raw/master/examples/data/countries.geojson\"\n",
    "    r = requests.get(url)\n",
    "    with open(file_path, \"w\") as f:\n",
    "        f.write(r.content.decode(\"utf-8\"))\n",
    "\n",
    "with open(file_path) as f:\n",
    "    json_data = json.load(f)"
   ]
  },
  {
   "cell_type": "code",
   "execution_count": 15,
   "id": "f96f398c-e201-4bad-89ac-2e4113a4564b",
   "metadata": {},
   "outputs": [
    {
     "data": {
      "text/html": [
       "\n",
       "            <style>\n",
       "                .geemap-dark {\n",
       "                    --jp-widgets-color: white;\n",
       "                    --jp-widgets-label-color: white;\n",
       "                    --jp-ui-font-color1: white;\n",
       "                    --jp-layout-color2: #454545;\n",
       "                    background-color: #383838;\n",
       "                }\n",
       "\n",
       "                .geemap-dark .jupyter-button {\n",
       "                    --jp-layout-color3: #383838;\n",
       "                }\n",
       "\n",
       "                .geemap-colab {\n",
       "                    background-color: var(--colab-primary-surface-color, white);\n",
       "                }\n",
       "\n",
       "                .geemap-colab .jupyter-button {\n",
       "                    --jp-layout-color3: var(--colab-primary-surface-color, white);\n",
       "                }\n",
       "            </style>\n",
       "            "
      ],
      "text/plain": [
       "<IPython.core.display.HTML object>"
      ]
     },
     "metadata": {},
     "output_type": "display_data"
    }
   ],
   "source": [
    "json_layer = GeoJSON(\n",
    "    data=json_data,\n",
    "    name=\"Countries\",\n",
    "    hover_style={\"fillColor\": \"red\", \"fillOpacity\": 0.5},\n",
    ")\n",
    "Map.add_layer(json_layer)"
   ]
  },
  {
   "cell_type": "code",
   "execution_count": 18,
   "id": "c3f33de2-342d-4489-8e37-2ef2cc8e39e5",
   "metadata": {},
   "outputs": [
    {
     "data": {
      "text/html": [
       "\n",
       "            <style>\n",
       "                .geemap-dark {\n",
       "                    --jp-widgets-color: white;\n",
       "                    --jp-widgets-label-color: white;\n",
       "                    --jp-ui-font-color1: white;\n",
       "                    --jp-layout-color2: #454545;\n",
       "                    background-color: #383838;\n",
       "                }\n",
       "\n",
       "                .geemap-dark .jupyter-button {\n",
       "                    --jp-layout-color3: #383838;\n",
       "                }\n",
       "\n",
       "                .geemap-colab {\n",
       "                    background-color: var(--colab-primary-surface-color, white);\n",
       "                }\n",
       "\n",
       "                .geemap-colab .jupyter-button {\n",
       "                    --jp-layout-color3: var(--colab-primary-surface-color, white);\n",
       "                }\n",
       "            </style>\n",
       "            "
      ],
      "text/plain": [
       "<IPython.core.display.HTML object>"
      ]
     },
     "metadata": {},
     "output_type": "display_data"
    }
   ],
   "source": [
    "# add information when the cursor hovers over the countries\n",
    "from ipywidgets import Text, HTML\n",
    "from ipyleaflet import WidgetControl, GeoJSON\n",
    "\n",
    "html1 = HTML('''\n",
    "    <h4>Country</h4>\n",
    "    Hover over a country\n",
    "''')\n",
    "html1.layout.margin = \"0px 20px 20px 20px\"\n",
    "control1 = WidgetControl(widget=html1, position=\"bottomright\")\n",
    "Map.add_control(control1)\n",
    "\n",
    "\n",
    "def update_html(feature, **kwargs):\n",
    "    html1.value = '''\n",
    "        <h4>Country code: <b>{}</b></h4>\n",
    "        Country name: {}\n",
    "    '''.format(\n",
    "        feature[\"properties\"][\"ISO_A2\"], feature[\"properties\"][\"NAME\"]\n",
    "    )\n",
    "\n",
    "# def update_html(feature, **kwargs):\n",
    "#     html1.value = '''\n",
    "#         <h4>Country code: <b>{}</b></h4>\n",
    "#         Country name: {}\n",
    "#     '''.format(\n",
    "#         feature[\"id\"], feature[\"properties\"][\"name\"] #items in format() is different on the notebook than from what's shown in the video (this one)\n",
    "#     )\n",
    "\n",
    "json_layer.on_hover(update_html)"
   ]
  },
  {
   "cell_type": "markdown",
   "id": "ca834284-85e3-468a-8977-fbfba0c16e57",
   "metadata": {},
   "source": [
    "Things to note:\n",
    "1. I wasn't able to select layers (i.e. the \"edit\" button is grayed out)\n",
    "2. Country information is not showing up in the lowe-right panel"
   ]
  },
  {
   "cell_type": "code",
   "execution_count": null,
   "id": "fc110301-b6da-44f1-831d-b73b66fc4129",
   "metadata": {},
   "outputs": [],
   "source": []
  }
 ],
 "metadata": {
  "kernelspec": {
   "display_name": "Python 3 (ipykernel)",
   "language": "python",
   "name": "python3"
  },
  "language_info": {
   "codemirror_mode": {
    "name": "ipython",
    "version": 3
   },
   "file_extension": ".py",
   "mimetype": "text/x-python",
   "name": "python",
   "nbconvert_exporter": "python",
   "pygments_lexer": "ipython3",
   "version": "3.12.2"
  }
 },
 "nbformat": 4,
 "nbformat_minor": 5
}
