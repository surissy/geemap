{
 "cells": [
  {
   "cell_type": "code",
   "execution_count": 1,
   "id": "737f5444-c9ff-4ae9-ab55-ed79f2ced181",
   "metadata": {},
   "outputs": [],
   "source": [
    "import geemap"
   ]
  },
  {
   "cell_type": "code",
   "execution_count": 3,
   "id": "9a5c7cbe-b42c-4906-96b5-628e14c525a4",
   "metadata": {},
   "outputs": [
    {
     "data": {
      "text/html": [
       "\n",
       "            <style>\n",
       "                .geemap-dark {\n",
       "                    --jp-widgets-color: white;\n",
       "                    --jp-widgets-label-color: white;\n",
       "                    --jp-ui-font-color1: white;\n",
       "                    --jp-layout-color2: #454545;\n",
       "                    background-color: #383838;\n",
       "                }\n",
       "\n",
       "                .geemap-dark .jupyter-button {\n",
       "                    --jp-layout-color3: #383838;\n",
       "                }\n",
       "\n",
       "                .geemap-colab {\n",
       "                    background-color: var(--colab-primary-surface-color, white);\n",
       "                }\n",
       "\n",
       "                .geemap-colab .jupyter-button {\n",
       "                    --jp-layout-color3: var(--colab-primary-surface-color, white);\n",
       "                }\n",
       "            </style>\n",
       "            "
      ],
      "text/plain": [
       "<IPython.core.display.HTML object>"
      ]
     },
     "metadata": {},
     "output_type": "display_data"
    },
    {
     "name": "stdout",
     "output_type": "stream",
     "text": [
      "Converting Earth Engine JavaScripts to Python scripts...\n",
      "\n",
      "Processing 1/6: Z:\\GEE\\geemap-master\\examples\\javascripts\\ClippedComposite.js\n",
      "Processing 2/6: Z:\\GEE\\geemap-master\\examples\\javascripts\\FromName.js\n",
      "Processing 3/6: Z:\\GEE\\geemap-master\\examples\\javascripts\\grid.js\n",
      "Processing 4/6: Z:\\GEE\\geemap-master\\examples\\javascripts\\ModisQaBands.js\n",
      "Processing 5/6: Z:\\GEE\\geemap-master\\examples\\javascripts\\NormalizedDifference.js\n",
      "Processing 6/6: Z:\\GEE\\geemap-master\\examples\\javascripts\\QualityMosaic.js\n",
      "Python scripts saved at: Z:/GEE/geemap-master/examples/javascripts\n"
     ]
    }
   ],
   "source": [
    "# convert Earth Engine JavaScripts to Python scripts:\n",
    "\n",
    "import os\n",
    "from geemap.conversion import *\n",
    "\n",
    "# Create a temporary working directory\n",
    "# work_dir = os.path.join(os.path.expanduser(\"~\"), \"geemap\")\n",
    "# Get Earth Engine JavaScript examples. There are five examples in the geemap package folder.\n",
    "# Change js_dir to your own folder containing your Earth Engine JavaScripts,\n",
    "# such as js_dir = '/path/to/your/js/folder'\n",
    "# js_dir = get_js_examples(out_dir=work_dir)\n",
    "js_dir = \"Z:/GEE/geemap-master/examples/javascripts\"\n",
    "js_dir_out = \"Z:/GEE/processed/Java_to_python\"\n",
    "\n",
    "# Convert all Earth Engine JavaScripts in a folder recursively to Python scripts.\n",
    "js_to_python_dir(in_dir=js_dir, out_dir=\"Z:/GEE/processed/Java_to_python\", use_qgis=True)\n",
    "print(\"Python scripts saved at: {}\".format(js_dir_out))\n",
    "\n",
    "## these can be directly used in qgis"
   ]
  },
  {
   "cell_type": "code",
   "execution_count": 9,
   "id": "c5d87886-bfc1-4617-b650-403b1d8b3e86",
   "metadata": {},
   "outputs": [
    {
     "data": {
      "text/html": [
       "\n",
       "            <style>\n",
       "                .geemap-dark {\n",
       "                    --jp-widgets-color: white;\n",
       "                    --jp-widgets-label-color: white;\n",
       "                    --jp-ui-font-color1: white;\n",
       "                    --jp-layout-color2: #454545;\n",
       "                    background-color: #383838;\n",
       "                }\n",
       "\n",
       "                .geemap-dark .jupyter-button {\n",
       "                    --jp-layout-color3: #383838;\n",
       "                }\n",
       "\n",
       "                .geemap-colab {\n",
       "                    background-color: var(--colab-primary-surface-color, white);\n",
       "                }\n",
       "\n",
       "                .geemap-colab .jupyter-button {\n",
       "                    --jp-layout-color3: var(--colab-primary-surface-color, white);\n",
       "                }\n",
       "            </style>\n",
       "            "
      ],
      "text/plain": [
       "<IPython.core.display.HTML object>"
      ]
     },
     "metadata": {},
     "output_type": "display_data"
    },
    {
     "name": "stdout",
     "output_type": "stream",
     "text": [
      "Converting Earth Engine Python scripts to Jupyter notebooks ...\n",
      "\n",
      "Processing 1/6: Z:\\GEE\\processed\\Java_to_python\\ClippedComposite_geemap.py\n",
      "\n",
      "Processing 2/6: Z:\\GEE\\processed\\Java_to_python\\FromName_geemap.py\n",
      "\n",
      "Processing 3/6: Z:\\GEE\\processed\\Java_to_python\\grid_geemap.py\n",
      "\n",
      "Processing 4/6: Z:\\GEE\\processed\\Java_to_python\\ModisQaBands_geemap.py\n",
      "\n",
      "Processing 5/6: Z:\\GEE\\processed\\Java_to_python\\NormalizedDifference_geemap.py\n",
      "\n",
      "Processing 6/6: Z:\\GEE\\processed\\Java_to_python\\QualityMosaic_geemap.py\n",
      "\n"
     ]
    }
   ],
   "source": [
    "# convert Earth Engine Python scripts to Jupyter Notebooks:\n",
    "\n",
    "# Convert all Earth Engine Python scripts in a folder recursively to Jupyter notebooks.\n",
    "nb_template = get_nb_template()  # Get the notebook template from the package folder.\n",
    "py_to_ipynb_dir(js_dir_out, nb_template, js_dir_out)\n",
    "\n",
    "# Execute all Jupyter notebooks in a folder recursively and save the output cells.\n",
    "# execute_notebook_dir(in_dir=js_dir)\n",
    "\n",
    "## this has been run, but I could not find the converted ipynb files"
   ]
  },
  {
   "cell_type": "code",
   "execution_count": null,
   "id": "e941f84a-fafa-4fdb-8abf-05a244a871ef",
   "metadata": {},
   "outputs": [],
   "source": []
  }
 ],
 "metadata": {
  "kernelspec": {
   "display_name": "Python 3 (ipykernel)",
   "language": "python",
   "name": "python3"
  },
  "language_info": {
   "codemirror_mode": {
    "name": "ipython",
    "version": 3
   },
   "file_extension": ".py",
   "mimetype": "text/x-python",
   "name": "python",
   "nbconvert_exporter": "python",
   "pygments_lexer": "ipython3",
   "version": "3.12.2"
  }
 },
 "nbformat": 4,
 "nbformat_minor": 5
}
