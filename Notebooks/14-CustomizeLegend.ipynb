{
 "cells": [
  {
   "cell_type": "code",
   "execution_count": 1,
   "id": "0023e469-faa4-4186-b327-9425ef46fcae",
   "metadata": {},
   "outputs": [],
   "source": [
    "import ee\n",
    "import geemap"
   ]
  },
  {
   "cell_type": "code",
   "execution_count": 2,
   "id": "9462cb48-a025-4a3e-83d1-450a94c8dd3c",
   "metadata": {},
   "outputs": [
    {
     "data": {
      "text/html": [
       "\n",
       "            <style>\n",
       "                .geemap-dark {\n",
       "                    --jp-widgets-color: white;\n",
       "                    --jp-widgets-label-color: white;\n",
       "                    --jp-ui-font-color1: white;\n",
       "                    --jp-layout-color2: #454545;\n",
       "                    background-color: #383838;\n",
       "                }\n",
       "\n",
       "                .geemap-dark .jupyter-button {\n",
       "                    --jp-layout-color3: #383838;\n",
       "                }\n",
       "\n",
       "                .geemap-colab {\n",
       "                    background-color: var(--colab-primary-surface-color, white);\n",
       "                }\n",
       "\n",
       "                .geemap-colab .jupyter-button {\n",
       "                    --jp-layout-color3: var(--colab-primary-surface-color, white);\n",
       "                }\n",
       "            </style>\n",
       "            "
      ],
      "text/plain": [
       "<IPython.core.display.HTML object>"
      ]
     },
     "metadata": {},
     "output_type": "display_data"
    },
    {
     "name": "stdout",
     "output_type": "stream",
     "text": [
      "NLCD\n",
      "ESA_WorldCover\n",
      "ESRI_LandCover\n",
      "ESRI_LandCover_TS\n",
      "Dynamic_World\n",
      "NWI\n",
      "MODIS/051/MCD12Q1\n",
      "MODIS/006/MCD12Q1\n",
      "GLOBCOVER\n",
      "JAXA/PALSAR\n",
      "Oxford\n",
      "AAFC/ACI\n",
      "COPERNICUS/CORINE/V20/100m\n",
      "COPERNICUS/Landcover/100m/Proba-V/Global\n",
      "USDA/NASS/CDL\n",
      "ALOS_landforms\n"
     ]
    }
   ],
   "source": [
    "# add builtin legends\n",
    "legends = geemap.builtin_legends\n",
    "for legend in legends:\n",
    "    print(legend)"
   ]
  },
  {
   "cell_type": "code",
   "execution_count": 3,
   "id": "4dd218e0-33bc-4023-a54b-7e4064fec439",
   "metadata": {},
   "outputs": [
    {
     "data": {
      "text/html": [
       "\n",
       "            <style>\n",
       "                .geemap-dark {\n",
       "                    --jp-widgets-color: white;\n",
       "                    --jp-widgets-label-color: white;\n",
       "                    --jp-ui-font-color1: white;\n",
       "                    --jp-layout-color2: #454545;\n",
       "                    background-color: #383838;\n",
       "                }\n",
       "\n",
       "                .geemap-dark .jupyter-button {\n",
       "                    --jp-layout-color3: #383838;\n",
       "                }\n",
       "\n",
       "                .geemap-colab {\n",
       "                    background-color: var(--colab-primary-surface-color, white);\n",
       "                }\n",
       "\n",
       "                .geemap-colab .jupyter-button {\n",
       "                    --jp-layout-color3: var(--colab-primary-surface-color, white);\n",
       "                }\n",
       "            </style>\n",
       "            "
      ],
      "text/plain": [
       "<IPython.core.display.HTML object>"
      ]
     },
     "metadata": {},
     "output_type": "display_data"
    },
    {
     "data": {
      "application/vnd.jupyter.widget-view+json": {
       "model_id": "532496138de6465fbbc0bfbf754b4b54",
       "version_major": 2,
       "version_minor": 0
      },
      "text/plain": [
       "Map(center=[0, 0], controls=(WidgetControl(options=['position', 'transparent_bg'], widget=SearchDataGUI(childr…"
      ]
     },
     "execution_count": 3,
     "metadata": {},
     "output_type": "execute_result"
    }
   ],
   "source": [
    "# National Land Cover Database (NLCD)\n",
    "Map = geemap.Map()\n",
    "Map.add_basemap(\"HYBRID\")\n",
    "landcover = ee.Image(\"USGS/NLCD_RELEASES/2019_REL/NLCD/2019\").select(\"landcover\")\n",
    "Map.addLayer(landcover, {}, \"NLCD Land Cover\")\n",
    "Map.add_legend(builtin_legend=\"NLCD\", title=\"NLCD Land Cover\")\n",
    "Map"
   ]
  },
  {
   "cell_type": "code",
   "execution_count": 7,
   "id": "255b4567-64b9-4046-bc10-3343428f7f38",
   "metadata": {},
   "outputs": [
    {
     "data": {
      "text/html": [
       "\n",
       "            <style>\n",
       "                .geemap-dark {\n",
       "                    --jp-widgets-color: white;\n",
       "                    --jp-widgets-label-color: white;\n",
       "                    --jp-ui-font-color1: white;\n",
       "                    --jp-layout-color2: #454545;\n",
       "                    background-color: #383838;\n",
       "                }\n",
       "\n",
       "                .geemap-dark .jupyter-button {\n",
       "                    --jp-layout-color3: #383838;\n",
       "                }\n",
       "\n",
       "                .geemap-colab {\n",
       "                    background-color: var(--colab-primary-surface-color, white);\n",
       "                }\n",
       "\n",
       "                .geemap-colab .jupyter-button {\n",
       "                    --jp-layout-color3: var(--colab-primary-surface-color, white);\n",
       "                }\n",
       "            </style>\n",
       "            "
      ],
      "text/plain": [
       "<IPython.core.display.HTML object>"
      ]
     },
     "metadata": {},
     "output_type": "display_data"
    },
    {
     "data": {
      "application/vnd.jupyter.widget-view+json": {
       "model_id": "370992ff9c244c5b821ada99ec6b34f3",
       "version_major": 2,
       "version_minor": 0
      },
      "text/plain": [
       "Map(center=[0, 0], controls=(WidgetControl(options=['position', 'transparent_bg'], widget=SearchDataGUI(childr…"
      ]
     },
     "execution_count": 7,
     "metadata": {},
     "output_type": "execute_result"
    }
   ],
   "source": [
    "# National Wetlands Inventory (NWI)\n",
    "Map = geemap.Map()\n",
    "# Map.add_basemap(\"HYBRID\")\n",
    "Map.add_basemap(\"FWS NWI Wetlands\")\n",
    "Map.add_legend(builtin_legend=\"NWI\")\n",
    "Map\n",
    "\n",
    "## FWS NWI Wetlands basemap not showing up"
   ]
  },
  {
   "cell_type": "code",
   "execution_count": 5,
   "id": "63657776-10fe-4607-8334-916092aad3b1",
   "metadata": {},
   "outputs": [
    {
     "data": {
      "text/html": [
       "\n",
       "            <style>\n",
       "                .geemap-dark {\n",
       "                    --jp-widgets-color: white;\n",
       "                    --jp-widgets-label-color: white;\n",
       "                    --jp-ui-font-color1: white;\n",
       "                    --jp-layout-color2: #454545;\n",
       "                    background-color: #383838;\n",
       "                }\n",
       "\n",
       "                .geemap-dark .jupyter-button {\n",
       "                    --jp-layout-color3: #383838;\n",
       "                }\n",
       "\n",
       "                .geemap-colab {\n",
       "                    background-color: var(--colab-primary-surface-color, white);\n",
       "                }\n",
       "\n",
       "                .geemap-colab .jupyter-button {\n",
       "                    --jp-layout-color3: var(--colab-primary-surface-color, white);\n",
       "                }\n",
       "            </style>\n",
       "            "
      ],
      "text/plain": [
       "<IPython.core.display.HTML object>"
      ]
     },
     "metadata": {},
     "output_type": "display_data"
    },
    {
     "name": "stdout",
     "output_type": "stream",
     "text": [
      "OpenStreetMap\n",
      "Esri.WorldStreetMap\n",
      "Esri.WorldImagery\n",
      "Esri.WorldTopoMap\n",
      "FWS NWI Wetlands\n",
      "FWS NWI Wetlands Raster\n",
      "NLCD 2021 CONUS Land Cover\n",
      "NLCD 2019 CONUS Land Cover\n",
      "NLCD 2016 CONUS Land Cover\n",
      "NLCD 2013 CONUS Land Cover\n",
      "NLCD 2011 CONUS Land Cover\n",
      "NLCD 2008 CONUS Land Cover\n",
      "NLCD 2006 CONUS Land Cover\n",
      "NLCD 2004 CONUS Land Cover\n",
      "NLCD 2001 CONUS Land Cover\n",
      "USGS NAIP Imagery\n",
      "USGS NAIP Imagery False Color\n",
      "USGS NAIP Imagery NDVI\n",
      "USGS Hydrography\n",
      "USGS 3DEP Elevation\n",
      "ESA Worldcover 2020\n",
      "ESA Worldcover 2020 S2 FCC\n",
      "ESA Worldcover 2020 S2 TCC\n",
      "ESA Worldcover 2021\n",
      "ESA Worldcover 2021 S2 FCC\n",
      "ESA Worldcover 2021 S2 TCC\n",
      "BasemapAT.basemap\n",
      "BasemapAT.grau\n",
      "BasemapAT.highdpi\n",
      "BasemapAT.orthofoto\n",
      "BasemapAT.overlay\n",
      "BasemapAT.surface\n",
      "BasemapAT.terrain\n",
      "CartoDB.DarkMatter\n",
      "CartoDB.DarkMatterNoLabels\n",
      "CartoDB.DarkMatterOnlyLabels\n",
      "CartoDB.Positron\n",
      "CartoDB.PositronNoLabels\n",
      "CartoDB.PositronOnlyLabels\n",
      "CartoDB.Voyager\n",
      "CartoDB.VoyagerLabelsUnder\n",
      "CartoDB.VoyagerNoLabels\n",
      "CartoDB.VoyagerOnlyLabels\n",
      "CyclOSM\n",
      "Esri.AntarcticBasemap\n",
      "Esri.AntarcticImagery\n",
      "Esri.ArcticImagery\n",
      "Esri.ArcticOceanBase\n",
      "Esri.ArcticOceanReference\n",
      "Esri.DeLorme\n",
      "Esri.NatGeoWorldMap\n",
      "Esri.OceanBasemap\n",
      "Esri.WorldGrayCanvas\n",
      "Esri.WorldPhysical\n",
      "Esri.WorldShadedRelief\n",
      "Esri.WorldTerrain\n",
      "FreeMapSK\n",
      "Gaode.Normal\n",
      "Gaode.Satellite\n",
      "HikeBike.HikeBike\n",
      "HikeBike.HillShading\n",
      "JusticeMap.americanIndian\n",
      "JusticeMap.asian\n",
      "JusticeMap.black\n",
      "JusticeMap.hispanic\n",
      "JusticeMap.income\n",
      "JusticeMap.multi\n",
      "JusticeMap.nonWhite\n",
      "JusticeMap.plurality\n",
      "JusticeMap.white\n",
      "MtbMap\n",
      "NASAGIBS.ASTER_GDEM_Greyscale_Shaded_Relief\n",
      "NASAGIBS.BlueMarble\n",
      "NASAGIBS.BlueMarble3031\n",
      "NASAGIBS.BlueMarble3413\n",
      "NASAGIBS.ModisAquaBands721CR\n",
      "NASAGIBS.ModisAquaTrueColorCR\n",
      "NASAGIBS.ModisTerraAOD\n",
      "NASAGIBS.ModisTerraBands367CR\n",
      "NASAGIBS.ModisTerraBands721CR\n",
      "NASAGIBS.ModisTerraChlorophyll\n",
      "NASAGIBS.ModisTerraLSTDay\n",
      "NASAGIBS.ModisTerraSnowCover\n",
      "NASAGIBS.ModisTerraTrueColorCR\n",
      "NASAGIBS.ViirsEarthAtNight2012\n",
      "NASAGIBS.ViirsTrueColorCR\n",
      "NLS\n",
      "OPNVKarte\n",
      "OneMapSG.Default\n",
      "OneMapSG.Grey\n",
      "OneMapSG.LandLot\n",
      "OneMapSG.Night\n",
      "OneMapSG.Original\n",
      "OpenAIP\n",
      "OpenFireMap\n",
      "OpenRailwayMap\n",
      "OpenSeaMap\n",
      "OpenSnowMap.pistes\n",
      "OpenStreetMap.BZH\n",
      "OpenStreetMap.BlackAndWhite\n",
      "OpenStreetMap.CH\n",
      "OpenStreetMap.DE\n",
      "OpenStreetMap.HOT\n",
      "OpenStreetMap.Mapnik\n",
      "OpenTopoMap\n",
      "SafeCast\n",
      "Stadia.AlidadeSmooth\n",
      "Stadia.AlidadeSmoothDark\n",
      "Stadia.OSMBright\n",
      "Stadia.Outdoors\n",
      "Stadia.StamenTerrain\n",
      "Stadia.StamenTerrainBackground\n",
      "Stadia.StamenTerrainLabels\n",
      "Stadia.StamenTerrainLines\n",
      "Stadia.StamenToner\n",
      "Stadia.StamenTonerBackground\n",
      "Stadia.StamenTonerLabels\n",
      "Stadia.StamenTonerLines\n",
      "Stadia.StamenTonerLite\n",
      "Stadia.StamenWatercolor\n",
      "Strava.All\n",
      "Strava.Ride\n",
      "Strava.Run\n",
      "Strava.Water\n",
      "Strava.Winter\n",
      "SwissFederalGeoportal.JourneyThroughTime\n",
      "SwissFederalGeoportal.NationalMapColor\n",
      "SwissFederalGeoportal.NationalMapGrey\n",
      "SwissFederalGeoportal.SWISSIMAGE\n",
      "USGS.USImagery\n",
      "USGS.USImageryTopo\n",
      "USGS.USTopo\n",
      "WaymarkedTrails.cycling\n",
      "WaymarkedTrails.hiking\n",
      "WaymarkedTrails.mtb\n",
      "WaymarkedTrails.riding\n",
      "WaymarkedTrails.skating\n",
      "WaymarkedTrails.slopes\n",
      "nlmaps.grijs\n",
      "nlmaps.luchtfoto\n",
      "nlmaps.pastel\n",
      "nlmaps.standaard\n",
      "nlmaps.water\n"
     ]
    }
   ],
   "source": [
    "for basemap in geemap.basemaps.keys():\n",
    "    print(basemap)"
   ]
  },
  {
   "cell_type": "code",
   "execution_count": 8,
   "id": "b9165222-91a1-434f-bc5a-bc152499224e",
   "metadata": {},
   "outputs": [
    {
     "data": {
      "text/html": [
       "\n",
       "            <style>\n",
       "                .geemap-dark {\n",
       "                    --jp-widgets-color: white;\n",
       "                    --jp-widgets-label-color: white;\n",
       "                    --jp-ui-font-color1: white;\n",
       "                    --jp-layout-color2: #454545;\n",
       "                    background-color: #383838;\n",
       "                }\n",
       "\n",
       "                .geemap-dark .jupyter-button {\n",
       "                    --jp-layout-color3: #383838;\n",
       "                }\n",
       "\n",
       "                .geemap-colab {\n",
       "                    background-color: var(--colab-primary-surface-color, white);\n",
       "                }\n",
       "\n",
       "                .geemap-colab .jupyter-button {\n",
       "                    --jp-layout-color3: var(--colab-primary-surface-color, white);\n",
       "                }\n",
       "            </style>\n",
       "            "
      ],
      "text/plain": [
       "<IPython.core.display.HTML object>"
      ]
     },
     "metadata": {},
     "output_type": "display_data"
    },
    {
     "data": {
      "application/vnd.jupyter.widget-view+json": {
       "model_id": "ce40c51130954d06a792598b1effbf17",
       "version_major": 2,
       "version_minor": 0
      },
      "text/plain": [
       "Map(center=[46.529, 6.746], controls=(WidgetControl(options=['position', 'transparent_bg'], widget=SearchDataG…"
      ]
     },
     "execution_count": 8,
     "metadata": {},
     "output_type": "execute_result"
    }
   ],
   "source": [
    "# MODIS Land Cover Type Yearly Global 500m\n",
    "Map = geemap.Map()\n",
    "Map.add_basemap(\"HYBRID\")\n",
    "\n",
    "landcover = ee.Image(\"MODIS/051/MCD12Q1/2013_01_01\").select(\"Land_Cover_Type_1\")\n",
    "\n",
    "Map.setCenter(6.746, 46.529, 2)\n",
    "Map.addLayer(landcover, {}, \"MODIS Land Cover\")\n",
    "Map.add_legend(builtin_legend=\"MODIS/051/MCD12Q1\")\n",
    "\n",
    "Map"
   ]
  },
  {
   "cell_type": "code",
   "execution_count": 9,
   "id": "cf2f17ea-0e62-4650-a674-c1a0c7ab695e",
   "metadata": {},
   "outputs": [
    {
     "data": {
      "text/html": [
       "\n",
       "            <style>\n",
       "                .geemap-dark {\n",
       "                    --jp-widgets-color: white;\n",
       "                    --jp-widgets-label-color: white;\n",
       "                    --jp-ui-font-color1: white;\n",
       "                    --jp-layout-color2: #454545;\n",
       "                    background-color: #383838;\n",
       "                }\n",
       "\n",
       "                .geemap-dark .jupyter-button {\n",
       "                    --jp-layout-color3: #383838;\n",
       "                }\n",
       "\n",
       "                .geemap-colab {\n",
       "                    background-color: var(--colab-primary-surface-color, white);\n",
       "                }\n",
       "\n",
       "                .geemap-colab .jupyter-button {\n",
       "                    --jp-layout-color3: var(--colab-primary-surface-color, white);\n",
       "                }\n",
       "            </style>\n",
       "            "
      ],
      "text/plain": [
       "<IPython.core.display.HTML object>"
      ]
     },
     "metadata": {},
     "output_type": "display_data"
    },
    {
     "data": {
      "application/vnd.jupyter.widget-view+json": {
       "model_id": "c713d1710f0a4f179b640532165c61e0",
       "version_major": 2,
       "version_minor": 0
      },
      "text/plain": [
       "Map(center=[0, 0], controls=(WidgetControl(options=['position', 'transparent_bg'], widget=SearchDataGUI(childr…"
      ]
     },
     "execution_count": 9,
     "metadata": {},
     "output_type": "execute_result"
    }
   ],
   "source": [
    "# add customized legends for Earth Engine data\n",
    "## define legend keys and colors\n",
    "Map = geemap.Map()\n",
    "\n",
    "legend_keys = [\"One\", \"Two\", \"Three\", \"Four\", \"etc\"]\n",
    "# colors can be defined using either hex code or RGB (0-255, 0-255, 0-255)\n",
    "legend_colors = [\"#8DD3C7\", \"#FFFFB3\", \"#BEBADA\", \"#FB8072\", \"#80B1D3\"]\n",
    "# legend_colors = [(255, 0, 0), (127, 255, 0), (127, 18, 25), (36, 70, 180), (96, 68 123)]\n",
    "\n",
    "Map.add_legend(keys=legend_keys, colors=legend_colors, position=\"bottomleft\")\n",
    "Map"
   ]
  },
  {
   "cell_type": "code",
   "execution_count": 10,
   "id": "bc2cf4e5-f928-4295-832e-70873f76ba45",
   "metadata": {},
   "outputs": [
    {
     "data": {
      "text/html": [
       "\n",
       "            <style>\n",
       "                .geemap-dark {\n",
       "                    --jp-widgets-color: white;\n",
       "                    --jp-widgets-label-color: white;\n",
       "                    --jp-ui-font-color1: white;\n",
       "                    --jp-layout-color2: #454545;\n",
       "                    background-color: #383838;\n",
       "                }\n",
       "\n",
       "                .geemap-dark .jupyter-button {\n",
       "                    --jp-layout-color3: #383838;\n",
       "                }\n",
       "\n",
       "                .geemap-colab {\n",
       "                    background-color: var(--colab-primary-surface-color, white);\n",
       "                }\n",
       "\n",
       "                .geemap-colab .jupyter-button {\n",
       "                    --jp-layout-color3: var(--colab-primary-surface-color, white);\n",
       "                }\n",
       "            </style>\n",
       "            "
      ],
      "text/plain": [
       "<IPython.core.display.HTML object>"
      ]
     },
     "metadata": {},
     "output_type": "display_data"
    },
    {
     "data": {
      "application/vnd.jupyter.widget-view+json": {
       "model_id": "8e6e655a9f6040d68f1191a2c964f23e",
       "version_major": 2,
       "version_minor": 0
      },
      "text/plain": [
       "Map(center=[0, 0], controls=(WidgetControl(options=['position', 'transparent_bg'], widget=SearchDataGUI(childr…"
      ]
     },
     "execution_count": 10,
     "metadata": {},
     "output_type": "execute_result"
    }
   ],
   "source": [
    "# define a legend dictionary\n",
    "Map = geemap.Map()\n",
    "\n",
    "legend_dict = {\n",
    "    \"11 Open Water\": \"466b9f\",\n",
    "    \"12 Perennial Ice/Snow\": \"d1def8\",\n",
    "    \"21 Developed, Open Space\": \"dec5c5\",\n",
    "    \"22 Developed, Low Intensity\": \"d99282\",\n",
    "    \"23 Developed, Medium Intensity\": \"eb0000\",\n",
    "    \"24 Developed High Intensity\": \"ab0000\",\n",
    "    \"31 Barren Land (Rock/Sand/Clay)\": \"b3ac9f\",\n",
    "    \"41 Deciduous Forest\": \"68ab5f\",\n",
    "    \"42 Evergreen Forest\": \"1c5f2c\",\n",
    "    \"43 Mixed Forest\": \"b5c58f\",\n",
    "    \"51 Dwarf Scrub\": \"af963c\",\n",
    "    \"52 Shrub/Scrub\": \"ccb879\",\n",
    "    \"71 Grassland/Herbaceous\": \"dfdfc2\",\n",
    "    \"72 Sedge/Herbaceous\": \"d1d182\",\n",
    "    \"73 Lichens\": \"a3cc51\",\n",
    "    \"74 Moss\": \"82ba9e\",\n",
    "    \"81 Pasture/Hay\": \"dcd939\",\n",
    "    \"82 Cultivated Crops\": \"ab6c28\",\n",
    "    \"90 Woody Wetlands\": \"b8d9eb\",\n",
    "    \"95 Emergent Herbaceous Wetlands\": \"6c9fb8\",\n",
    "}\n",
    "\n",
    "landcover = ee.Image(\"USGS/NLCD/NLCD2016\").select(\"landcover\")\n",
    "Map.addLayer(landcover, {}, \"NLCD Land Cover\")\n",
    "\n",
    "Map.add_legend(title=\"NLCD Land Cover Classification\", legend_dict=legend_dict)\n",
    "Map\n",
    "\n",
    "## question in mind: how do we get the hex codes of colors in an existing data layer like the NLCD?\n",
    "## (answered in the third method below :)"
   ]
  },
  {
   "cell_type": "code",
   "execution_count": 11,
   "id": "b95a5580-d7d0-48af-a346-ec509ba3fc80",
   "metadata": {},
   "outputs": [
    {
     "data": {
      "text/html": [
       "\n",
       "            <style>\n",
       "                .geemap-dark {\n",
       "                    --jp-widgets-color: white;\n",
       "                    --jp-widgets-label-color: white;\n",
       "                    --jp-ui-font-color1: white;\n",
       "                    --jp-layout-color2: #454545;\n",
       "                    background-color: #383838;\n",
       "                }\n",
       "\n",
       "                .geemap-dark .jupyter-button {\n",
       "                    --jp-layout-color3: #383838;\n",
       "                }\n",
       "\n",
       "                .geemap-colab {\n",
       "                    background-color: var(--colab-primary-surface-color, white);\n",
       "                }\n",
       "\n",
       "                .geemap-colab .jupyter-button {\n",
       "                    --jp-layout-color3: var(--colab-primary-surface-color, white);\n",
       "                }\n",
       "            </style>\n",
       "            "
      ],
      "text/plain": [
       "<IPython.core.display.HTML object>"
      ]
     },
     "metadata": {},
     "output_type": "display_data"
    },
    {
     "data": {
      "application/vnd.jupyter.widget-view+json": {
       "model_id": "d59e990df93b4ec79a875b03e2cdb06b",
       "version_major": 2,
       "version_minor": 0
      },
      "text/plain": [
       "Map(center=[46.529, 6.746], controls=(WidgetControl(options=['position', 'transparent_bg'], widget=SearchDataG…"
      ]
     },
     "execution_count": 11,
     "metadata": {},
     "output_type": "execute_result"
    }
   ],
   "source": [
    "# convert an Earth Engine class table to legend\n",
    "Map = geemap.Map()\n",
    "\n",
    "ee_class_table = \"\"\"\n",
    "Value\tColor\tDescription\n",
    "0\t1c0dff\tWater\n",
    "1\t05450a\tEvergreen needleleaf forest\n",
    "2\t086a10\tEvergreen broadleaf forest\n",
    "3\t54a708\tDeciduous needleleaf forest\n",
    "4\t78d203\tDeciduous broadleaf forest\n",
    "5\t009900\tMixed forest\n",
    "6\tc6b044\tClosed shrublands\n",
    "7\tdcd159\tOpen shrublands\n",
    "8\tdade48\tWoody savannas\n",
    "9\tfbff13\tSavannas\n",
    "10\tb6ff05\tGrasslands\n",
    "11\t27ff87\tPermanent wetlands\n",
    "12\tc24f44\tCroplands\n",
    "13\ta5a5a5\tUrban and built-up\n",
    "14\tff6d4c\tCropland/natural vegetation mosaic\n",
    "15\t69fff8\tSnow and ice\n",
    "16\tf9ffa4\tBarren or sparsely vegetated\n",
    "254\tffffff\tUnclassified\n",
    "\"\"\"\n",
    "## go to the target layer on GEE website and copy its legend table to here\n",
    "## don't change the tabs in between (but pkay to change the descriptions)\n",
    "\n",
    "landcover = ee.Image(\"MODIS/051/MCD12Q1/2013_01_01\").select(\"Land_Cover_Type_1\")\n",
    "Map.setCenter(6.746, 46.529, 2)\n",
    "Map.addLayer(landcover, {}, \"MODIS Land Cover\")\n",
    "\n",
    "legend_dict = geemap.legend_from_ee(ee_class_table) ## convert the table to a dictionary\n",
    "Map.add_legend(title=\"MODIS Global Land Cover\", legend_dict=legend_dict)\n",
    "\n",
    "Map"
   ]
  },
  {
   "cell_type": "code",
   "execution_count": null,
   "id": "c4c92684-df44-47aa-933d-aa6ce37731bf",
   "metadata": {},
   "outputs": [],
   "source": []
  }
 ],
 "metadata": {
  "kernelspec": {
   "display_name": "Python 3 (ipykernel)",
   "language": "python",
   "name": "python3"
  },
  "language_info": {
   "codemirror_mode": {
    "name": "ipython",
    "version": 3
   },
   "file_extension": ".py",
   "mimetype": "text/x-python",
   "name": "python",
   "nbconvert_exporter": "python",
   "pygments_lexer": "ipython3",
   "version": "3.12.2"
  }
 },
 "nbformat": 4,
 "nbformat_minor": 5
}
