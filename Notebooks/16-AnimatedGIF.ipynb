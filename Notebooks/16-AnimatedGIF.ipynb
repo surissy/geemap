{
 "cells": [
  {
   "cell_type": "code",
   "execution_count": 1,
   "id": "76948272-1054-4e57-bdd4-bffc94168780",
   "metadata": {},
   "outputs": [],
   "source": [
    "import geemap\n",
    "import os"
   ]
  },
  {
   "cell_type": "code",
   "execution_count": 2,
   "id": "b8b26ca8-f18c-4412-9a02-f5a933337670",
   "metadata": {},
   "outputs": [
    {
     "data": {
      "text/html": [
       "\n",
       "            <style>\n",
       "                .geemap-dark {\n",
       "                    --jp-widgets-color: white;\n",
       "                    --jp-widgets-label-color: white;\n",
       "                    --jp-ui-font-color1: white;\n",
       "                    --jp-layout-color2: #454545;\n",
       "                    background-color: #383838;\n",
       "                }\n",
       "\n",
       "                .geemap-dark .jupyter-button {\n",
       "                    --jp-layout-color3: #383838;\n",
       "                }\n",
       "\n",
       "                .geemap-colab {\n",
       "                    background-color: var(--colab-primary-surface-color, white);\n",
       "                }\n",
       "\n",
       "                .geemap-colab .jupyter-button {\n",
       "                    --jp-layout-color3: var(--colab-primary-surface-color, white);\n",
       "                }\n",
       "            </style>\n",
       "            "
      ],
      "text/plain": [
       "<IPython.core.display.HTML object>"
      ]
     },
     "metadata": {},
     "output_type": "display_data"
    }
   ],
   "source": [
    "# Update the geemap package\n",
    "# geemap.update_package()"
   ]
  },
  {
   "cell_type": "code",
   "execution_count": 4,
   "id": "960e198f-241a-4652-8469-5e55a14437b0",
   "metadata": {},
   "outputs": [
    {
     "data": {
      "text/html": [
       "\n",
       "            <style>\n",
       "                .geemap-dark {\n",
       "                    --jp-widgets-color: white;\n",
       "                    --jp-widgets-label-color: white;\n",
       "                    --jp-ui-font-color1: white;\n",
       "                    --jp-layout-color2: #454545;\n",
       "                    background-color: #383838;\n",
       "                }\n",
       "\n",
       "                .geemap-dark .jupyter-button {\n",
       "                    --jp-layout-color3: #383838;\n",
       "                }\n",
       "\n",
       "                .geemap-colab {\n",
       "                    background-color: var(--colab-primary-surface-color, white);\n",
       "                }\n",
       "\n",
       "                .geemap-colab .jupyter-button {\n",
       "                    --jp-layout-color3: var(--colab-primary-surface-color, white);\n",
       "                }\n",
       "            </style>\n",
       "            "
      ],
      "text/plain": [
       "<IPython.core.display.HTML object>"
      ]
     },
     "metadata": {},
     "output_type": "display_data"
    }
   ],
   "source": [
    "# Add animate dtext to an existing gif\n",
    "# in_gif = os.path.abspath(\"../data/animation.gif\")\n",
    "# out_dir = os.path.join(os.path.expanduser(\"~\"), \"Downloads\")\n",
    "in_gif = \"Z:/GEE/geemap-master/examples/data/animation.gif\"\n",
    "out_dir = \"Z:/GEE/processed/16_animation\"\n",
    "out_gif = os.path.join(out_dir, \"output.gif\")\n",
    "\n",
    "# if not os.path.exists(out_dir):\n",
    "#     os.makedirs(out_dir)"
   ]
  },
  {
   "cell_type": "code",
   "execution_count": 5,
   "id": "f1c2ee4d-b0ca-46bf-b29b-84595ab60104",
   "metadata": {},
   "outputs": [
    {
     "data": {
      "text/html": [
       "\n",
       "            <style>\n",
       "                .geemap-dark {\n",
       "                    --jp-widgets-color: white;\n",
       "                    --jp-widgets-label-color: white;\n",
       "                    --jp-ui-font-color1: white;\n",
       "                    --jp-layout-color2: #454545;\n",
       "                    background-color: #383838;\n",
       "                }\n",
       "\n",
       "                .geemap-dark .jupyter-button {\n",
       "                    --jp-layout-color3: #383838;\n",
       "                }\n",
       "\n",
       "                .geemap-colab {\n",
       "                    background-color: var(--colab-primary-surface-color, white);\n",
       "                }\n",
       "\n",
       "                .geemap-colab .jupyter-button {\n",
       "                    --jp-layout-color3: var(--colab-primary-surface-color, white);\n",
       "                }\n",
       "            </style>\n",
       "            "
      ],
      "text/plain": [
       "<IPython.core.display.HTML object>"
      ]
     },
     "metadata": {},
     "output_type": "display_data"
    },
    {
     "data": {
      "application/vnd.jupyter.widget-view+json": {
       "model_id": "4744dcee29b74f7c9506731862260114",
       "version_major": 2,
       "version_minor": 0
      },
      "text/plain": [
       "Output()"
      ]
     },
     "metadata": {},
     "output_type": "display_data"
    }
   ],
   "source": [
    "geemap.show_image(in_gif)"
   ]
  },
  {
   "cell_type": "code",
   "execution_count": 8,
   "id": "46181a75-2619-4ea9-af6d-31ab603d9a40",
   "metadata": {},
   "outputs": [
    {
     "data": {
      "text/html": [
       "\n",
       "            <style>\n",
       "                .geemap-dark {\n",
       "                    --jp-widgets-color: white;\n",
       "                    --jp-widgets-label-color: white;\n",
       "                    --jp-ui-font-color1: white;\n",
       "                    --jp-layout-color2: #454545;\n",
       "                    background-color: #383838;\n",
       "                }\n",
       "\n",
       "                .geemap-dark .jupyter-button {\n",
       "                    --jp-layout-color3: #383838;\n",
       "                }\n",
       "\n",
       "                .geemap-colab {\n",
       "                    background-color: var(--colab-primary-surface-color, white);\n",
       "                }\n",
       "\n",
       "                .geemap-colab .jupyter-button {\n",
       "                    --jp-layout-color3: var(--colab-primary-surface-color, white);\n",
       "                }\n",
       "            </style>\n",
       "            "
      ],
      "text/plain": [
       "<IPython.core.display.HTML object>"
      ]
     },
     "metadata": {},
     "output_type": "display_data"
    },
    {
     "data": {
      "application/vnd.jupyter.widget-view+json": {
       "model_id": "276d47b9555e42d398b0fdfa93ca7e13",
       "version_major": 2,
       "version_minor": 0
      },
      "text/plain": [
       "Output()"
      ]
     },
     "metadata": {},
     "output_type": "display_data"
    }
   ],
   "source": [
    "# Add animated text to GIF\n",
    "geemap.add_text_to_gif(\n",
    "    in_gif,\n",
    "    out_gif,\n",
    "    xy=(\"5%\", \"5%\"),  # where do you want to put the text (i.e. row and column number)\n",
    "    text_sequence=1984,  # what text you want to put on each animation/frame; can be number, string, sequence\n",
    "                         # in this case, 1984 leads to a series of number from 1984 to xxxx\n",
    "    font_size=30,\n",
    "    font_color=\"#0000ff\",\n",
    "    duration=100,  # the larger the number, the slower the animation will be\n",
    ")\n",
    "\n",
    "# press Shift+Tab to view the parameter options\n",
    "\n",
    "geemap.show_image(out_gif)"
   ]
  },
  {
   "cell_type": "code",
   "execution_count": 10,
   "id": "8d6c2173-ad6d-4367-89c6-a53b59f25545",
   "metadata": {},
   "outputs": [
    {
     "data": {
      "text/html": [
       "\n",
       "            <style>\n",
       "                .geemap-dark {\n",
       "                    --jp-widgets-color: white;\n",
       "                    --jp-widgets-label-color: white;\n",
       "                    --jp-ui-font-color1: white;\n",
       "                    --jp-layout-color2: #454545;\n",
       "                    background-color: #383838;\n",
       "                }\n",
       "\n",
       "                .geemap-dark .jupyter-button {\n",
       "                    --jp-layout-color3: #383838;\n",
       "                }\n",
       "\n",
       "                .geemap-colab {\n",
       "                    background-color: var(--colab-primary-surface-color, white);\n",
       "                }\n",
       "\n",
       "                .geemap-colab .jupyter-button {\n",
       "                    --jp-layout-color3: var(--colab-primary-surface-color, white);\n",
       "                }\n",
       "            </style>\n",
       "            "
      ],
      "text/plain": [
       "<IPython.core.display.HTML object>"
      ]
     },
     "metadata": {},
     "output_type": "display_data"
    },
    {
     "data": {
      "application/vnd.jupyter.widget-view+json": {
       "model_id": "4620f75375414f4cb812ceba67dfe16a",
       "version_major": 2,
       "version_minor": 0
      },
      "text/plain": [
       "Output()"
      ]
     },
     "metadata": {},
     "output_type": "display_data"
    }
   ],
   "source": [
    "# Change the parameters I\n",
    "geemap.add_text_to_gif(\n",
    "    in_gif,\n",
    "    out_gif,\n",
    "    xy=(\"45%\", \"45%\"),  # where do you want to put the text (i.e. row and column number)\n",
    "    text_sequence=2000,  # what text you want to put on each animation/frame; can be number, string, sequence\n",
    "    font_size=30,\n",
    "    font_color=\"black\",\n",
    "    duration=1000,  # 1000 = 1 sec (each frame will last this long\n",
    ")\n",
    "\n",
    "geemap.show_image(out_gif)"
   ]
  },
  {
   "cell_type": "code",
   "execution_count": 12,
   "id": "8043ab9f-63c0-47f4-aa79-0c0fd62526f3",
   "metadata": {},
   "outputs": [
    {
     "data": {
      "text/html": [
       "\n",
       "            <style>\n",
       "                .geemap-dark {\n",
       "                    --jp-widgets-color: white;\n",
       "                    --jp-widgets-label-color: white;\n",
       "                    --jp-ui-font-color1: white;\n",
       "                    --jp-layout-color2: #454545;\n",
       "                    background-color: #383838;\n",
       "                }\n",
       "\n",
       "                .geemap-dark .jupyter-button {\n",
       "                    --jp-layout-color3: #383838;\n",
       "                }\n",
       "\n",
       "                .geemap-colab {\n",
       "                    background-color: var(--colab-primary-surface-color, white);\n",
       "                }\n",
       "\n",
       "                .geemap-colab .jupyter-button {\n",
       "                    --jp-layout-color3: var(--colab-primary-surface-color, white);\n",
       "                }\n",
       "            </style>\n",
       "            "
      ],
      "text/plain": [
       "<IPython.core.display.HTML object>"
      ]
     },
     "metadata": {},
     "output_type": "display_data"
    },
    {
     "data": {
      "application/vnd.jupyter.widget-view+json": {
       "model_id": "f7c69747a4da44b5979fe670da0d9ce1",
       "version_major": 2,
       "version_minor": 0
      },
      "text/plain": [
       "Output()"
      ]
     },
     "metadata": {},
     "output_type": "display_data"
    }
   ],
   "source": [
    "# Change the parameters II\n",
    "geemap.add_text_to_gif(\n",
    "    in_gif,\n",
    "    out_gif,\n",
    "    xy=(100, 30),  # absolute numbers: by pixels (x and y)\n",
    "    text_sequence=2000,  # what text you want to put on each animation/frame; can be number, string, sequence\n",
    "    font_size=30,\n",
    "    font_color=\"orange\",\n",
    "    duration=1000,  # 1000 = 1 sec (each frame will last this long\n",
    ")\n",
    "\n",
    "geemap.show_image(out_gif)"
   ]
  },
  {
   "cell_type": "code",
   "execution_count": 13,
   "id": "75c85d6f-f772-4e5f-ab4a-7e7ac35b9dea",
   "metadata": {},
   "outputs": [
    {
     "data": {
      "text/html": [
       "\n",
       "            <style>\n",
       "                .geemap-dark {\n",
       "                    --jp-widgets-color: white;\n",
       "                    --jp-widgets-label-color: white;\n",
       "                    --jp-ui-font-color1: white;\n",
       "                    --jp-layout-color2: #454545;\n",
       "                    background-color: #383838;\n",
       "                }\n",
       "\n",
       "                .geemap-dark .jupyter-button {\n",
       "                    --jp-layout-color3: #383838;\n",
       "                }\n",
       "\n",
       "                .geemap-colab {\n",
       "                    background-color: var(--colab-primary-surface-color, white);\n",
       "                }\n",
       "\n",
       "                .geemap-colab .jupyter-button {\n",
       "                    --jp-layout-color3: var(--colab-primary-surface-color, white);\n",
       "                }\n",
       "            </style>\n",
       "            "
      ],
      "text/plain": [
       "<IPython.core.display.HTML object>"
      ]
     },
     "metadata": {},
     "output_type": "display_data"
    },
    {
     "data": {
      "application/vnd.jupyter.widget-view+json": {
       "model_id": "42e92fceccbe4dc7a8f9f7c2a5d7698d",
       "version_major": 2,
       "version_minor": 0
      },
      "text/plain": [
       "Output()"
      ]
     },
     "metadata": {},
     "output_type": "display_data"
    }
   ],
   "source": [
    "# Add place name\n",
    "geemap.add_text_to_gif(\n",
    "    out_gif, \n",
    "    out_gif, \n",
    "    xy=(\"30%\", \"85%\"), \n",
    "    text_sequence=\"Las Vegas\", \n",
    "    font_color=\"black\"\n",
    ")\n",
    "\n",
    "geemap.show_image(out_gif)"
   ]
  },
  {
   "cell_type": "code",
   "execution_count": 15,
   "id": "c83b2054-3b77-4aac-81cc-2b35591b5fea",
   "metadata": {},
   "outputs": [
    {
     "data": {
      "text/html": [
       "\n",
       "            <style>\n",
       "                .geemap-dark {\n",
       "                    --jp-widgets-color: white;\n",
       "                    --jp-widgets-label-color: white;\n",
       "                    --jp-ui-font-color1: white;\n",
       "                    --jp-layout-color2: #454545;\n",
       "                    background-color: #383838;\n",
       "                }\n",
       "\n",
       "                .geemap-dark .jupyter-button {\n",
       "                    --jp-layout-color3: #383838;\n",
       "                }\n",
       "\n",
       "                .geemap-colab {\n",
       "                    background-color: var(--colab-primary-surface-color, white);\n",
       "                }\n",
       "\n",
       "                .geemap-colab .jupyter-button {\n",
       "                    --jp-layout-color3: var(--colab-primary-surface-color, white);\n",
       "                }\n",
       "            </style>\n",
       "            "
      ],
      "text/plain": [
       "<IPython.core.display.HTML object>"
      ]
     },
     "metadata": {},
     "output_type": "display_data"
    },
    {
     "data": {
      "text/plain": [
       "['Candara.ttf',\n",
       " 'Candarab.ttf',\n",
       " 'Candarai.ttf',\n",
       " 'Candaral.ttf',\n",
       " 'Candarali.ttf',\n",
       " 'Candaraz.ttf',\n",
       " 'Gabriola.ttf',\n",
       " 'Inkfree.ttf',\n",
       " 'LeelUIsl.ttf',\n",
       " 'LeelaUIb.ttf',\n",
       " 'LeelawUI.ttf',\n",
       " 'Nirmala.ttf',\n",
       " 'NirmalaB.ttf',\n",
       " 'NirmalaS.ttf',\n",
       " 'Sitka.ttc',\n",
       " 'SitkaB.ttc',\n",
       " 'SitkaI.ttc',\n",
       " 'SitkaZ.ttc',\n",
       " 'YuGothB.ttc',\n",
       " 'YuGothL.ttc',\n",
       " 'YuGothM.ttc',\n",
       " 'YuGothR.ttc',\n",
       " 'arial.ttf',\n",
       " 'arialbd.ttf',\n",
       " 'arialbi.ttf',\n",
       " 'ariali.ttf',\n",
       " 'ariblk.ttf',\n",
       " 'bahnschrift.ttf',\n",
       " 'calibri.ttf',\n",
       " 'calibrib.ttf',\n",
       " 'calibrii.ttf',\n",
       " 'calibril.ttf',\n",
       " 'calibrili.ttf',\n",
       " 'calibriz.ttf',\n",
       " 'cambria.ttc',\n",
       " 'cambriab.ttf',\n",
       " 'cambriai.ttf',\n",
       " 'cambriaz.ttf',\n",
       " 'comic.ttf',\n",
       " 'comicbd.ttf',\n",
       " 'comici.ttf',\n",
       " 'comicz.ttf',\n",
       " 'consola.ttf',\n",
       " 'consolab.ttf',\n",
       " 'consolai.ttf',\n",
       " 'consolaz.ttf',\n",
       " 'constan.ttf',\n",
       " 'constanb.ttf',\n",
       " 'constani.ttf',\n",
       " 'constanz.ttf',\n",
       " 'corbel.ttf',\n",
       " 'corbelb.ttf',\n",
       " 'corbeli.ttf',\n",
       " 'corbell.ttf',\n",
       " 'corbelli.ttf',\n",
       " 'corbelz.ttf',\n",
       " 'cour.ttf',\n",
       " 'courbd.ttf',\n",
       " 'courbi.ttf',\n",
       " 'couri.ttf',\n",
       " 'ebrima.ttf',\n",
       " 'ebrimabd.ttf',\n",
       " 'framd.ttf',\n",
       " 'framdit.ttf',\n",
       " 'gadugi.ttf',\n",
       " 'gadugib.ttf',\n",
       " 'georgia.ttf',\n",
       " 'georgiab.ttf',\n",
       " 'georgiai.ttf',\n",
       " 'georgiaz.ttf',\n",
       " 'himalaya.ttf',\n",
       " 'holomdl2.ttf',\n",
       " 'impact.ttf',\n",
       " 'javatext.ttf',\n",
       " 'l_10646.ttf',\n",
       " 'lucon.ttf',\n",
       " 'malgun.ttf',\n",
       " 'malgunbd.ttf',\n",
       " 'malgunsl.ttf',\n",
       " 'micross.ttf',\n",
       " 'mingliub.ttc',\n",
       " 'mmrtext.ttf',\n",
       " 'mmrtextb.ttf',\n",
       " 'monbaiti.ttf',\n",
       " 'msgothic.ttc',\n",
       " 'msjh.ttc',\n",
       " 'msjhbd.ttc',\n",
       " 'msjhl.ttc',\n",
       " 'msyh.ttc',\n",
       " 'msyhbd.ttc',\n",
       " 'msyhl.ttc',\n",
       " 'msyi.ttf',\n",
       " 'mvboli.ttf',\n",
       " 'ntailu.ttf',\n",
       " 'ntailub.ttf',\n",
       " 'pala.ttf',\n",
       " 'palab.ttf',\n",
       " 'palabi.ttf',\n",
       " 'palai.ttf',\n",
       " 'phagspa.ttf',\n",
       " 'phagspab.ttf',\n",
       " 'segmdl2.ttf',\n",
       " 'segoepr.ttf',\n",
       " 'segoeprb.ttf',\n",
       " 'segoesc.ttf',\n",
       " 'segoescb.ttf',\n",
       " 'segoeui.ttf',\n",
       " 'segoeuib.ttf',\n",
       " 'segoeuii.ttf',\n",
       " 'segoeuil.ttf',\n",
       " 'segoeuisl.ttf',\n",
       " 'segoeuiz.ttf',\n",
       " 'seguibl.ttf',\n",
       " 'seguibli.ttf',\n",
       " 'seguiemj.ttf',\n",
       " 'seguihis.ttf',\n",
       " 'seguili.ttf',\n",
       " 'seguisb.ttf',\n",
       " 'seguisbi.ttf',\n",
       " 'seguisli.ttf',\n",
       " 'seguisym.ttf',\n",
       " 'simsun.ttc',\n",
       " 'simsunb.ttf',\n",
       " 'sylfaen.ttf',\n",
       " 'symbol.ttf',\n",
       " 'tahoma.ttf',\n",
       " 'tahomabd.ttf',\n",
       " 'taile.ttf',\n",
       " 'taileb.ttf',\n",
       " 'times.ttf',\n",
       " 'timesbd.ttf',\n",
       " 'timesbi.ttf',\n",
       " 'timesi.ttf',\n",
       " 'trebuc.ttf',\n",
       " 'trebucbd.ttf',\n",
       " 'trebucbi.ttf',\n",
       " 'trebucit.ttf',\n",
       " 'verdana.ttf',\n",
       " 'verdanab.ttf',\n",
       " 'verdanai.ttf',\n",
       " 'verdanaz.ttf',\n",
       " 'webdings.ttf',\n",
       " 'wingding.ttf']"
      ]
     },
     "execution_count": 15,
     "metadata": {},
     "output_type": "execute_result"
    }
   ],
   "source": [
    "# Change font type\n",
    "geemap.system_fonts() # get a list of available font types\n",
    "\n",
    "## some may not work properly as the available fonts depend on individual computers; need to have trial and error"
   ]
  },
  {
   "cell_type": "code",
   "execution_count": 16,
   "id": "53d4686b-2783-4f6f-bf50-d7b991660b52",
   "metadata": {},
   "outputs": [
    {
     "data": {
      "text/html": [
       "\n",
       "            <style>\n",
       "                .geemap-dark {\n",
       "                    --jp-widgets-color: white;\n",
       "                    --jp-widgets-label-color: white;\n",
       "                    --jp-ui-font-color1: white;\n",
       "                    --jp-layout-color2: #454545;\n",
       "                    background-color: #383838;\n",
       "                }\n",
       "\n",
       "                .geemap-dark .jupyter-button {\n",
       "                    --jp-layout-color3: #383838;\n",
       "                }\n",
       "\n",
       "                .geemap-colab {\n",
       "                    background-color: var(--colab-primary-surface-color, white);\n",
       "                }\n",
       "\n",
       "                .geemap-colab .jupyter-button {\n",
       "                    --jp-layout-color3: var(--colab-primary-surface-color, white);\n",
       "                }\n",
       "            </style>\n",
       "            "
      ],
      "text/plain": [
       "<IPython.core.display.HTML object>"
      ]
     },
     "metadata": {},
     "output_type": "display_data"
    },
    {
     "data": {
      "application/vnd.jupyter.widget-view+json": {
       "model_id": "4b7e11c37d4c45b3a5cf4e936810b687",
       "version_major": 2,
       "version_minor": 0
      },
      "text/plain": [
       "Output()"
      ]
     },
     "metadata": {},
     "output_type": "display_data"
    }
   ],
   "source": [
    "geemap.add_text_to_gif(\n",
    "    in_gif,\n",
    "    out_gif,\n",
    "    xy=(\"5%\", \"5%\"),\n",
    "    text_sequence=1984,\n",
    "    font_size=30,\n",
    "    font_color=\"#0000ff\",\n",
    "    duration=100,\n",
    ")\n",
    "\n",
    "geemap.show_image(out_gif)"
   ]
  },
  {
   "cell_type": "code",
   "execution_count": 17,
   "id": "02e105ce-fe2f-4508-9149-6539fb46b243",
   "metadata": {},
   "outputs": [
    {
     "data": {
      "text/html": [
       "\n",
       "            <style>\n",
       "                .geemap-dark {\n",
       "                    --jp-widgets-color: white;\n",
       "                    --jp-widgets-label-color: white;\n",
       "                    --jp-ui-font-color1: white;\n",
       "                    --jp-layout-color2: #454545;\n",
       "                    background-color: #383838;\n",
       "                }\n",
       "\n",
       "                .geemap-dark .jupyter-button {\n",
       "                    --jp-layout-color3: #383838;\n",
       "                }\n",
       "\n",
       "                .geemap-colab {\n",
       "                    background-color: var(--colab-primary-surface-color, white);\n",
       "                }\n",
       "\n",
       "                .geemap-colab .jupyter-button {\n",
       "                    --jp-layout-color3: var(--colab-primary-surface-color, white);\n",
       "                }\n",
       "            </style>\n",
       "            "
      ],
      "text/plain": [
       "<IPython.core.display.HTML object>"
      ]
     },
     "metadata": {},
     "output_type": "display_data"
    },
    {
     "data": {
      "application/vnd.jupyter.widget-view+json": {
       "model_id": "95954b1d2e004563b3e392f38b663a21",
       "version_major": 2,
       "version_minor": 0
      },
      "text/plain": [
       "Output()"
      ]
     },
     "metadata": {},
     "output_type": "display_data"
    }
   ],
   "source": [
    "geemap.add_text_to_gif(\n",
    "    out_gif,\n",
    "    out_gif,\n",
    "    xy=(\"30%\", \"85%\"),\n",
    "    text_sequence=\"Las Vegas\",\n",
    "    font_type=\"timesbd.ttf\",  # can also use the absolute path for a font you downloaded\n",
    "    font_size=30,\n",
    "    font_color=\"black\",\n",
    ")\n",
    "geemap.show_image(out_gif)"
   ]
  },
  {
   "cell_type": "code",
   "execution_count": 18,
   "id": "c5678c53-88c8-4ecc-af04-9d3ac68b632f",
   "metadata": {},
   "outputs": [
    {
     "data": {
      "text/html": [
       "\n",
       "            <style>\n",
       "                .geemap-dark {\n",
       "                    --jp-widgets-color: white;\n",
       "                    --jp-widgets-label-color: white;\n",
       "                    --jp-ui-font-color1: white;\n",
       "                    --jp-layout-color2: #454545;\n",
       "                    background-color: #383838;\n",
       "                }\n",
       "\n",
       "                .geemap-dark .jupyter-button {\n",
       "                    --jp-layout-color3: #383838;\n",
       "                }\n",
       "\n",
       "                .geemap-colab {\n",
       "                    background-color: var(--colab-primary-surface-color, white);\n",
       "                }\n",
       "\n",
       "                .geemap-colab .jupyter-button {\n",
       "                    --jp-layout-color3: var(--colab-primary-surface-color, white);\n",
       "                }\n",
       "            </style>\n",
       "            "
      ],
      "text/plain": [
       "<IPython.core.display.HTML object>"
      ]
     },
     "metadata": {},
     "output_type": "display_data"
    }
   ],
   "source": [
    "# Create GIS from EE Data\n",
    "import ee\n",
    "import geemap\n",
    "\n",
    "ee.Initialize()"
   ]
  },
  {
   "cell_type": "code",
   "execution_count": 19,
   "id": "db09e1db-f840-4d02-bbad-c60a343325eb",
   "metadata": {},
   "outputs": [
    {
     "data": {
      "text/html": [
       "\n",
       "            <style>\n",
       "                .geemap-dark {\n",
       "                    --jp-widgets-color: white;\n",
       "                    --jp-widgets-label-color: white;\n",
       "                    --jp-ui-font-color1: white;\n",
       "                    --jp-layout-color2: #454545;\n",
       "                    background-color: #383838;\n",
       "                }\n",
       "\n",
       "                .geemap-dark .jupyter-button {\n",
       "                    --jp-layout-color3: #383838;\n",
       "                }\n",
       "\n",
       "                .geemap-colab {\n",
       "                    background-color: var(--colab-primary-surface-color, white);\n",
       "                }\n",
       "\n",
       "                .geemap-colab .jupyter-button {\n",
       "                    --jp-layout-color3: var(--colab-primary-surface-color, white);\n",
       "                }\n",
       "            </style>\n",
       "            "
      ],
      "text/plain": [
       "<IPython.core.display.HTML object>"
      ]
     },
     "metadata": {},
     "output_type": "display_data"
    }
   ],
   "source": [
    "## Prepare for an ImageCollection\n",
    "# Define an area of interest geometry with a global non-polar extent.\n",
    "aoi = ee.Geometry.Polygon(\n",
    "    [[[-179.0, 78.0], [-179.0, -58.0], [179.0, -58.0], [179.0, 78.0]]], None, False\n",
    ")\n",
    "\n",
    "# Import hourly predicted temperature image collection for northern winter\n",
    "# solstice. Note that predictions extend for 384 hours; limit the collection\n",
    "# to the first 24 hours.\n",
    "tempCol = (\n",
    "    ee.ImageCollection(\"NOAA/GFS0P25\")\n",
    "    .filterDate(\"2018-12-22\", \"2018-12-23\")\n",
    "    .limit(24)\n",
    "    .select(\"temperature_2m_above_ground\")\n",
    ")\n",
    "\n",
    "# Define arguments for animation function parameters.\n",
    "videoArgs = {\n",
    "    \"dimensions\": 768,\n",
    "    \"region\": aoi,\n",
    "    \"framesPerSecond\": 10,\n",
    "    \"crs\": \"EPSG:3857\",\n",
    "    \"min\": -40.0,\n",
    "    \"max\": 35.0,\n",
    "    \"palette\": [\"blue\", \"purple\", \"cyan\", \"green\", \"yellow\", \"red\"],\n",
    "}"
   ]
  },
  {
   "cell_type": "code",
   "execution_count": 20,
   "id": "060bb438-cd57-4395-b76a-a6198f7fee5e",
   "metadata": {},
   "outputs": [
    {
     "data": {
      "text/html": [
       "\n",
       "            <style>\n",
       "                .geemap-dark {\n",
       "                    --jp-widgets-color: white;\n",
       "                    --jp-widgets-label-color: white;\n",
       "                    --jp-ui-font-color1: white;\n",
       "                    --jp-layout-color2: #454545;\n",
       "                    background-color: #383838;\n",
       "                }\n",
       "\n",
       "                .geemap-dark .jupyter-button {\n",
       "                    --jp-layout-color3: #383838;\n",
       "                }\n",
       "\n",
       "                .geemap-colab {\n",
       "                    background-color: var(--colab-primary-surface-color, white);\n",
       "                }\n",
       "\n",
       "                .geemap-colab .jupyter-button {\n",
       "                    --jp-layout-color3: var(--colab-primary-surface-color, white);\n",
       "                }\n",
       "            </style>\n",
       "            "
      ],
      "text/plain": [
       "<IPython.core.display.HTML object>"
      ]
     },
     "metadata": {},
     "output_type": "display_data"
    },
    {
     "name": "stdout",
     "output_type": "stream",
     "text": [
      "Generating URL...\n",
      "Downloading GIF image from https://earthengine.googleapis.com/v1/projects/earthengine-legacy/videoThumbnails/134894443c9d596ca8e4f5697f64c66b-1e48b49d3d7ea9ab57fffd49fd4e125c:getPixels\n",
      "Please wait ...\n",
      "The GIF image has been saved to: Z:\\GEE\\geemap-master\\examples\\data\\temperature.gif\n"
     ]
    },
    {
     "data": {
      "application/vnd.jupyter.widget-view+json": {
       "model_id": "3e7a3263a3744cdc965ac69b6855fe29",
       "version_major": 2,
       "version_minor": 0
      },
      "text/plain": [
       "Output()"
      ]
     },
     "metadata": {},
     "output_type": "display_data"
    }
   ],
   "source": [
    "## Save the GIF to local drive\n",
    "saved_gif = \"Z:/GEE/geemap-master/examples/data/temperature.gif\"\n",
    "geemap.download_ee_video(tempCol, videoArgs, saved_gif)\n",
    "     \n",
    "geemap.show_image(saved_gif)"
   ]
  },
  {
   "cell_type": "code",
   "execution_count": 21,
   "id": "8122ca43-4045-46cd-b366-1e7993b5e84c",
   "metadata": {},
   "outputs": [
    {
     "data": {
      "text/html": [
       "\n",
       "            <style>\n",
       "                .geemap-dark {\n",
       "                    --jp-widgets-color: white;\n",
       "                    --jp-widgets-label-color: white;\n",
       "                    --jp-ui-font-color1: white;\n",
       "                    --jp-layout-color2: #454545;\n",
       "                    background-color: #383838;\n",
       "                }\n",
       "\n",
       "                .geemap-dark .jupyter-button {\n",
       "                    --jp-layout-color3: #383838;\n",
       "                }\n",
       "\n",
       "                .geemap-colab {\n",
       "                    background-color: var(--colab-primary-surface-color, white);\n",
       "                }\n",
       "\n",
       "                .geemap-colab .jupyter-button {\n",
       "                    --jp-layout-color3: var(--colab-primary-surface-color, white);\n",
       "                }\n",
       "            </style>\n",
       "            "
      ],
      "text/plain": [
       "<IPython.core.display.HTML object>"
      ]
     },
     "metadata": {},
     "output_type": "display_data"
    },
    {
     "name": "stdout",
     "output_type": "stream",
     "text": [
      "['00:00', '01:00', '02:00', '03:00', '04:00', '05:00', '06:00', '07:00', '08:00', '09:00', '10:00', '11:00', '12:00', '13:00', '14:00', '15:00', '16:00', '17:00', '18:00', '19:00', '20:00', '21:00', '22:00', '23:00']\n"
     ]
    }
   ],
   "source": [
    "## Generate an hourly text sequence\n",
    "text = [str(n).zfill(2) + \":00\" for n in range(0, 24)]\n",
    "print(text)"
   ]
  },
  {
   "cell_type": "code",
   "execution_count": 23,
   "id": "c6fb6bbc-111f-4ee7-9412-77f2164b4be0",
   "metadata": {},
   "outputs": [
    {
     "data": {
      "text/html": [
       "\n",
       "            <style>\n",
       "                .geemap-dark {\n",
       "                    --jp-widgets-color: white;\n",
       "                    --jp-widgets-label-color: white;\n",
       "                    --jp-ui-font-color1: white;\n",
       "                    --jp-layout-color2: #454545;\n",
       "                    background-color: #383838;\n",
       "                }\n",
       "\n",
       "                .geemap-dark .jupyter-button {\n",
       "                    --jp-layout-color3: #383838;\n",
       "                }\n",
       "\n",
       "                .geemap-colab {\n",
       "                    background-color: var(--colab-primary-surface-color, white);\n",
       "                }\n",
       "\n",
       "                .geemap-colab .jupyter-button {\n",
       "                    --jp-layout-color3: var(--colab-primary-surface-color, white);\n",
       "                }\n",
       "            </style>\n",
       "            "
      ],
      "text/plain": [
       "<IPython.core.display.HTML object>"
      ]
     },
     "metadata": {},
     "output_type": "display_data"
    },
    {
     "data": {
      "application/vnd.jupyter.widget-view+json": {
       "model_id": "963881a8915d41e781f342a05663560c",
       "version_major": 2,
       "version_minor": 0
      },
      "text/plain": [
       "Output()"
      ]
     },
     "metadata": {},
     "output_type": "display_data"
    }
   ],
   "source": [
    "## Add text to GIF\n",
    "out_gif2 = os.path.join(out_dir, \"output2.gif\")\n",
    "\n",
    "geemap.add_text_to_gif(\n",
    "    saved_gif,\n",
    "    out_gif2,\n",
    "    xy=(\"3%\", \"5%\"),\n",
    "    text_sequence=text,\n",
    "    font_size=30,\n",
    "    font_color=\"#ffffff\",\n",
    ")\n",
    "\n",
    "geemap.add_text_to_gif(\n",
    "    out_gif2,\n",
    "    out_gif2,\n",
    "    xy=(\"32%\", \"92%\"),\n",
    "    text_sequence=\"NOAA GFS Hourly Temperature\",\n",
    "    font_color=\"white\",\n",
    ")\n",
    "\n",
    "geemap.show_image(out_gif2)"
   ]
  },
  {
   "cell_type": "code",
   "execution_count": null,
   "id": "d1ab4f19-3e17-4fba-86c9-a116992e81ed",
   "metadata": {},
   "outputs": [],
   "source": []
  }
 ],
 "metadata": {
  "kernelspec": {
   "display_name": "Python 3 (ipykernel)",
   "language": "python",
   "name": "python3"
  },
  "language_info": {
   "codemirror_mode": {
    "name": "ipython",
    "version": 3
   },
   "file_extension": ".py",
   "mimetype": "text/x-python",
   "name": "python",
   "nbconvert_exporter": "python",
   "pygments_lexer": "ipython3",
   "version": "3.12.2"
  }
 },
 "nbformat": 4,
 "nbformat_minor": 5
}
