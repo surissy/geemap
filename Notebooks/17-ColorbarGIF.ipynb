{
 "cells": [
  {
   "cell_type": "code",
   "execution_count": 1,
   "id": "852d7a3a-2ab8-4f42-8bdb-4e5058c8aee1",
   "metadata": {},
   "outputs": [],
   "source": [
    "import geemap\n",
    "import os"
   ]
  },
  {
   "cell_type": "code",
   "execution_count": null,
   "id": "2bd9a28e-40b1-499a-8f5c-52b139234d5b",
   "metadata": {},
   "outputs": [],
   "source": [
    "# geemap.update_package()"
   ]
  },
  {
   "cell_type": "code",
   "execution_count": 2,
   "id": "269d7804-acf0-459e-8447-ee33e79fe231",
   "metadata": {},
   "outputs": [
    {
     "data": {
      "text/html": [
       "\n",
       "            <style>\n",
       "                .geemap-dark {\n",
       "                    --jp-widgets-color: white;\n",
       "                    --jp-widgets-label-color: white;\n",
       "                    --jp-ui-font-color1: white;\n",
       "                    --jp-layout-color2: #454545;\n",
       "                    background-color: #383838;\n",
       "                }\n",
       "\n",
       "                .geemap-dark .jupyter-button {\n",
       "                    --jp-layout-color3: #383838;\n",
       "                }\n",
       "\n",
       "                .geemap-colab {\n",
       "                    background-color: var(--colab-primary-surface-color, white);\n",
       "                }\n",
       "\n",
       "                .geemap-colab .jupyter-button {\n",
       "                    --jp-layout-color3: var(--colab-primary-surface-color, white);\n",
       "                }\n",
       "            </style>\n",
       "            "
      ],
      "text/plain": [
       "<IPython.core.display.HTML object>"
      ]
     },
     "metadata": {},
     "output_type": "display_data"
    },
    {
     "data": {
      "application/vnd.jupyter.widget-view+json": {
       "model_id": "86a503b3762d480bbaede01156f4e3ef",
       "version_major": 2,
       "version_minor": 0
      },
      "text/plain": [
       "Output()"
      ]
     },
     "metadata": {},
     "output_type": "display_data"
    }
   ],
   "source": [
    "# Download a gif\n",
    "from geemap import *\n",
    "\n",
    "# url = \"https://i.imgur.com/MSde1om.gif\"\n",
    "out_dir = \"Z:/GEE/processed/17_colorbar\"\n",
    "# if not os.path.exists(out_dir):\n",
    "#     os.makedirs(out_dir)\n",
    "# download_from_url(url, out_file_name=\"temp.gif\", out_dir=out_dir)\n",
    "\n",
    "in_gif = os.path.join(out_dir, \"temp.gif\")\n",
    "show_image(in_gif)\n",
    "\n",
    "## Error: The URL is invalid. Please double check the URL. Used the one from previous tutorial instead"
   ]
  },
  {
   "cell_type": "code",
   "execution_count": 3,
   "id": "88f7d55c-bb9c-4eae-957c-40337a6b8259",
   "metadata": {},
   "outputs": [
    {
     "data": {
      "text/html": [
       "\n",
       "            <style>\n",
       "                .geemap-dark {\n",
       "                    --jp-widgets-color: white;\n",
       "                    --jp-widgets-label-color: white;\n",
       "                    --jp-ui-font-color1: white;\n",
       "                    --jp-layout-color2: #454545;\n",
       "                    background-color: #383838;\n",
       "                }\n",
       "\n",
       "                .geemap-dark .jupyter-button {\n",
       "                    --jp-layout-color3: #383838;\n",
       "                }\n",
       "\n",
       "                .geemap-colab {\n",
       "                    background-color: var(--colab-primary-surface-color, white);\n",
       "                }\n",
       "\n",
       "                .geemap-colab .jupyter-button {\n",
       "                    --jp-layout-color3: var(--colab-primary-surface-color, white);\n",
       "                }\n",
       "            </style>\n",
       "            "
      ],
      "text/plain": [
       "<IPython.core.display.HTML object>"
      ]
     },
     "metadata": {},
     "output_type": "display_data"
    }
   ],
   "source": [
    "# Get image URLs\n",
    "# noaa_logo = \"https://bit.ly/3ahJoMq\"\n",
    "noaa_logo = \"https://upload.wikimedia.org/wikipedia/commons/thumb/7/79/NOAA_logo.svg/1200px-NOAA_logo.svg.png\"\n",
    "ee_logo = \"https://i.imgur.com/Qbvacvm.png\"\n",
    "\n",
    "## The original noaa logo link is NoneType, which leads to an error in the next steps"
   ]
  },
  {
   "cell_type": "code",
   "execution_count": 4,
   "id": "a57004f7-1139-448b-8de0-a88fbed4685b",
   "metadata": {},
   "outputs": [
    {
     "data": {
      "text/html": [
       "\n",
       "            <style>\n",
       "                .geemap-dark {\n",
       "                    --jp-widgets-color: white;\n",
       "                    --jp-widgets-label-color: white;\n",
       "                    --jp-ui-font-color1: white;\n",
       "                    --jp-layout-color2: #454545;\n",
       "                    background-color: #383838;\n",
       "                }\n",
       "\n",
       "                .geemap-dark .jupyter-button {\n",
       "                    --jp-layout-color3: #383838;\n",
       "                }\n",
       "\n",
       "                .geemap-colab {\n",
       "                    background-color: var(--colab-primary-surface-color, white);\n",
       "                }\n",
       "\n",
       "                .geemap-colab .jupyter-button {\n",
       "                    --jp-layout-color3: var(--colab-primary-surface-color, white);\n",
       "                }\n",
       "            </style>\n",
       "            "
      ],
      "text/plain": [
       "<IPython.core.display.HTML object>"
      ]
     },
     "metadata": {},
     "output_type": "display_data"
    }
   ],
   "source": [
    "# Set output GIF path\n",
    "out_gif = os.path.join(out_dir, \"output.gif\")"
   ]
  },
  {
   "cell_type": "code",
   "execution_count": 5,
   "id": "99b3b0bc-aea8-4b3a-98b6-79cb49c9d693",
   "metadata": {},
   "outputs": [
    {
     "data": {
      "text/html": [
       "\n",
       "            <style>\n",
       "                .geemap-dark {\n",
       "                    --jp-widgets-color: white;\n",
       "                    --jp-widgets-label-color: white;\n",
       "                    --jp-ui-font-color1: white;\n",
       "                    --jp-layout-color2: #454545;\n",
       "                    background-color: #383838;\n",
       "                }\n",
       "\n",
       "                .geemap-dark .jupyter-button {\n",
       "                    --jp-layout-color3: #383838;\n",
       "                }\n",
       "\n",
       "                .geemap-colab {\n",
       "                    background-color: var(--colab-primary-surface-color, white);\n",
       "                }\n",
       "\n",
       "                .geemap-colab .jupyter-button {\n",
       "                    --jp-layout-color3: var(--colab-primary-surface-color, white);\n",
       "                }\n",
       "            </style>\n",
       "            "
      ],
      "text/plain": [
       "<IPython.core.display.HTML object>"
      ]
     },
     "metadata": {},
     "output_type": "display_data"
    },
    {
     "name": "stdout",
     "output_type": "stream",
     "text": [
      "cannot identify image file <_io.BytesIO object at 0x0000017B26384B80>\n"
     ]
    },
    {
     "ename": "AttributeError",
     "evalue": "'NoneType' object has no attribute 'size'",
     "output_type": "error",
     "traceback": [
      "\u001b[1;31m---------------------------------------------------------------------------\u001b[0m",
      "\u001b[1;31mAttributeError\u001b[0m                            Traceback (most recent call last)",
      "Cell \u001b[1;32mIn[5], line 2\u001b[0m\n\u001b[0;32m      1\u001b[0m \u001b[38;5;66;03m# Add images to GIF\u001b[39;00m\n\u001b[1;32m----> 2\u001b[0m \u001b[43madd_image_to_gif\u001b[49m\u001b[43m(\u001b[49m\n\u001b[0;32m      3\u001b[0m \u001b[43m    \u001b[49m\u001b[43min_gif\u001b[49m\u001b[43m,\u001b[49m\u001b[43m \u001b[49m\u001b[43mout_gif\u001b[49m\u001b[43m,\u001b[49m\u001b[43m \u001b[49m\u001b[43min_image\u001b[49m\u001b[38;5;241;43m=\u001b[39;49m\u001b[43mnoaa_logo\u001b[49m\u001b[43m,\u001b[49m\u001b[43m \u001b[49m\u001b[43mxy\u001b[49m\u001b[38;5;241;43m=\u001b[39;49m\u001b[43m(\u001b[49m\u001b[38;5;124;43m\"\u001b[39;49m\u001b[38;5;124;43m2\u001b[39;49m\u001b[38;5;124;43m%\u001b[39;49m\u001b[38;5;124;43m\"\u001b[39;49m\u001b[43m,\u001b[49m\u001b[43m \u001b[49m\u001b[38;5;124;43m\"\u001b[39;49m\u001b[38;5;124;43m80\u001b[39;49m\u001b[38;5;124;43m%\u001b[39;49m\u001b[38;5;124;43m\"\u001b[39;49m\u001b[43m)\u001b[49m\u001b[43m,\u001b[49m\u001b[43m \u001b[49m\u001b[43mimage_size\u001b[49m\u001b[38;5;241;43m=\u001b[39;49m\u001b[43m(\u001b[49m\u001b[38;5;241;43m80\u001b[39;49m\u001b[43m,\u001b[49m\u001b[43m \u001b[49m\u001b[38;5;241;43m80\u001b[39;49m\u001b[43m)\u001b[49m\n\u001b[0;32m      4\u001b[0m \u001b[43m)\u001b[49m\n\u001b[0;32m      6\u001b[0m \u001b[38;5;66;03m## Error: 'NoneType' object has no attribute 'size' (cannot add logo to GIF)\u001b[39;00m\n",
      "File \u001b[1;32m~\\.conda\\envs\\gee\\Lib\\site-packages\\geemap\\timelapse.py:607\u001b[0m, in \u001b[0;36madd_image_to_gif\u001b[1;34m(in_gif, out_gif, in_image, xy, image_size, circle_mask)\u001b[0m\n\u001b[0;32m    604\u001b[0m \u001b[38;5;28;01mexcept\u001b[39;00m \u001b[38;5;167;01mException\u001b[39;00m \u001b[38;5;28;01mas\u001b[39;00m e:\n\u001b[0;32m    605\u001b[0m     \u001b[38;5;28mprint\u001b[39m(e)\n\u001b[1;32m--> 607\u001b[0m logo_raw_size \u001b[38;5;241m=\u001b[39m \u001b[43mlogo_raw_image\u001b[49m\u001b[38;5;241;43m.\u001b[39;49m\u001b[43msize\u001b[49m\n\u001b[0;32m    609\u001b[0m ratio \u001b[38;5;241m=\u001b[39m \u001b[38;5;28mmax\u001b[39m(\n\u001b[0;32m    610\u001b[0m     logo_raw_size[\u001b[38;5;241m0\u001b[39m] \u001b[38;5;241m/\u001b[39m image_size[\u001b[38;5;241m0\u001b[39m],\n\u001b[0;32m    611\u001b[0m     logo_raw_size[\u001b[38;5;241m1\u001b[39m] \u001b[38;5;241m/\u001b[39m image_size[\u001b[38;5;241m1\u001b[39m],\n\u001b[0;32m    612\u001b[0m )\n\u001b[0;32m    613\u001b[0m image_resize \u001b[38;5;241m=\u001b[39m (\u001b[38;5;28mint\u001b[39m(logo_raw_size[\u001b[38;5;241m0\u001b[39m] \u001b[38;5;241m/\u001b[39m ratio), \u001b[38;5;28mint\u001b[39m(logo_raw_size[\u001b[38;5;241m1\u001b[39m] \u001b[38;5;241m/\u001b[39m ratio))\n",
      "\u001b[1;31mAttributeError\u001b[0m: 'NoneType' object has no attribute 'size'"
     ]
    }
   ],
   "source": [
    "# Add images to GIF\n",
    "add_image_to_gif(\n",
    "    in_gif, out_gif, in_image=noaa_logo, xy=(\"2%\", \"80%\"), image_size=(80, 80)\n",
    ")\n",
    "\n",
    "## Error: 'NoneType' object has no attribute 'size' (cannot add logo to GIF)"
   ]
  },
  {
   "cell_type": "code",
   "execution_count": null,
   "id": "6fabe084-afcc-4cef-98f3-0b828d95d153",
   "metadata": {},
   "outputs": [],
   "source": [
    "add_image_to_gif(\n",
    "    in_gif, out_gif, in_image=ee_logo, xy=(\"13%\", \"79%\"), image_size=(85, 85)\n",
    ")\n",
    "\n",
    "## Error: 'NoneType' object has no attribute 'size' (cannot add logo to GIF)"
   ]
  },
  {
   "cell_type": "code",
   "execution_count": null,
   "id": "3c2c3532-adb8-49e1-aadd-ced19e76eacb",
   "metadata": {},
   "outputs": [],
   "source": [
    "# Display output GIF\n",
    "show_image(out_gif)"
   ]
  },
  {
   "cell_type": "code",
   "execution_count": null,
   "id": "0880c5e1-720f-4835-95db-a5740c190833",
   "metadata": {},
   "outputs": [],
   "source": [
    "# Create a colorbar\n",
    "width = 250\n",
    "height = 30\n",
    "palette = [\"blue\", \"purple\", \"cyan\", \"green\", \"yellow\", \"red\"]\n",
    "labels = [-40, 35]\n",
    "colorbar = create_colorbar(\n",
    "    width=width,\n",
    "    height=height,\n",
    "    palette=palette,\n",
    "    vertical=False,\n",
    "    add_labels=True,\n",
    "    font_size=20,\n",
    "    labels=labels,\n",
    ")\n",
    "\n",
    "show_image(colorbar)\n",
    "\n",
    "## AttributeError: 'ImageDraw' object has no attribute 'textsize'"
   ]
  },
  {
   "cell_type": "code",
   "execution_count": null,
   "id": "d10b14a9-d64e-48da-a888-daac4674804a",
   "metadata": {},
   "outputs": [],
   "source": [
    "# Add color bar to GIF\n",
    "add_image_to_gif(\n",
    "    out_gif, out_gif, in_image=colorbar, xy=(\"69%\", \"89%\"), image_size=(250, 250)\n",
    ")\n",
    "\n",
    "show_image(out_gif)"
   ]
  }
 ],
 "metadata": {
  "kernelspec": {
   "display_name": "Python 3 (ipykernel)",
   "language": "python",
   "name": "python3"
  },
  "language_info": {
   "codemirror_mode": {
    "name": "ipython",
    "version": 3
   },
   "file_extension": ".py",
   "mimetype": "text/x-python",
   "name": "python",
   "nbconvert_exporter": "python",
   "pygments_lexer": "ipython3",
   "version": "3.12.2"
  }
 },
 "nbformat": 4,
 "nbformat_minor": 5
}
